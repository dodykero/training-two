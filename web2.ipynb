{
 "cells": [
  {
   "cell_type": "code",
   "execution_count": 2,
   "metadata": {},
   "outputs": [
    {
     "data": {
      "text/plain": [
       "<Response [200]>"
      ]
     },
     "execution_count": 2,
     "metadata": {},
     "output_type": "execute_result"
    }
   ],
   "source": [
    "import requests\n",
    "reponse=requests.get(\"https://jekso.github.io/scrapping-example/index.html\")\n",
    "reponse"
   ]
  },
  {
   "cell_type": "code",
   "execution_count": 3,
   "metadata": {},
   "outputs": [
    {
     "name": "stdout",
     "output_type": "stream",
     "text": [
      "<!DOCTYPE html>\n",
      "\n",
      "<html>\n",
      "\n",
      "    <head>\n",
      "        <title>My First HTML Page</title>\n",
      "\n",
      "        <style>\n",
      "\n",
      "            p {\n",
      "                color: green;\n",
      "                \n",
      "            }\n",
      "\n",
      "            h1 {\n",
      "                color:blue;\n",
      "                text-shadow: 2px 2px 5px red;\n",
      "            }\n",
      "\n",
      "\n",
      "            img {\n",
      "                width: 200px;\n",
      "                height: 200px;\n",
      "            }\n",
      "\n",
      "\n",
      "            select {\n",
      "                width: 300px;\n",
      "                height: 50px;\n",
      "                background-color: orange;\n",
      "            }\n",
      "\n",
      "            div#bigred {\n",
      "                width: 100%%;\n",
      "                height: 200px;\n",
      "                background-color: red;\n",
      "                margin: 20px;\n",
      "                color: white;\n",
      "            }\n",
      "\n",
      "\n",
      "            div#smallblue {\n",
      "                width: 100%%;\n",
      "                height: 100px;\n",
      "                background-color: blue;\n",
      "                margin: 20px;\n",
      "                color: yellow;\n",
      "            }\n",
      "\n",
      "            li.redul {\n",
      "                color: red;\n",
      "            }\n",
      "\n",
      "            li.blueol {\n",
      "                color:blue;\n",
      "            }\n",
      "\n",
      "            .h2_orange {\n",
      "                color: orange;\n",
      "            }\n",
      "\n",
      "            .jupyter_img {\n",
      "                width: 200px;\n",
      "                height: 200px;\n",
      "                border: solid green 3px;\n",
      "            }\n",
      "\n",
      "            .bg-yellow {\n",
      "                background-color: yellow;\n",
      "            }\n",
      "\n",
      "        </style>\n",
      "\n",
      "    </head>\n",
      "\n",
      "\n",
      "    <body>\n",
      "\n",
      "        <p>Iam a paragrapph</p>\n",
      "\n",
      "        <br><hr><br>\n",
      "\n",
      "        <h1>My First H1 Header</h1>\n",
      "        <h1>My Second H1 Header</h1>\n",
      "\n",
      "        <h2 class=\"h2_orange bg-yellow\">My First H2 Header</h2>\n",
      "        <h2 class=\"h2_orange\">My Second H2 Header</h2>\n",
      "        <h2>My 3rd H2 Header</h2>\n",
      "\n",
      "\n",
      "        <br><hr><br>\n",
      "\n",
      "        <ul>\n",
      "            <li class='redul'> Milk </li>\n",
      "            <li class='redul'> Oranges </li>\n",
      "        </ul>\n",
      "\n",
      "        <br><hr><br>\n",
      "\n",
      "        <ol>\n",
      "            <li class='blueol'> Milk </li>\n",
      "            <li class='blueol'> Oranges </li>\n",
      "        </ol>\n",
      "\n",
      "        <br><hr><br>\n",
      "\n",
      "        <img src=\"my_img.png\" class=\"jupyter_img\">\n",
      "        \n",
      "        <br><hr><br>\n",
      "\n",
      "        <a href=\"http://www.google.com\">Go To Google</a>\n",
      "\n",
      "        <br><hr><br>\n",
      "\n",
      "        <form>\n",
      "            Username: <input type=\"text\" class=\"bg-yellow\">\n",
      "            <br><br>\n",
      "            Passowrd: <input type=\"password\">\n",
      "            <br><br>\n",
      "\n",
      "            <select>\n",
      "                <option value=\"volvo\">Volvo</option>\n",
      "                <option value=\"saab\">Saab</option>\n",
      "                <option value=\"fiat\">Fiat</option>\n",
      "                <option value=\"audi\">Audi</option>\n",
      "            </select>\n",
      "            <br><br>\n",
      "\n",
      "            <input type=\"checkbox\">\n",
      "            I agree for the terms\n",
      "            <br><br>\n",
      "\n",
      "            <input type=\"submit\" value=\"Search\">\n",
      "        </form>\n",
      "\n",
      "        <br><hr><br>\n",
      "\n",
      "        <table>\n",
      "            <tr>\n",
      "                <th>House Size</th>\n",
      "                <th>Num of Rooms</th>\n",
      "                <th class=\"bg-yellow\">Has Garden</th>\n",
      "                <th>Price</th>\n",
      "            </tr>\n",
      "            <tr>\n",
      "                <td>120</td>\n",
      "                <td>3</td>\n",
      "                <td>yes</td>\n",
      "                <td>500000</td>\n",
      "            </tr>\n",
      "            <tr>\n",
      "                <td>140</td>\n",
      "                <td>4</td>\n",
      "                <td class=\"bg-yellow\">no</td>\n",
      "                <td>750000</td>\n",
      "            </tr>\n",
      "            <tr>\n",
      "                <td>80</td>\n",
      "                <td>1</td>\n",
      "                <td>no</td>\n",
      "                <td>300000</td>\n",
      "            </tr>\n",
      "        </table>\n",
      "\n",
      "\n",
      "        <br><hr><br>\n",
      "        \n",
      "\n",
      "\n",
      "\n",
      "        <iframe width=\"420\" height=\"345\" src=\"https://www.youtube.com/embed/tgbNymZ7vqY\"></iframe>\n",
      "\n",
      "\n",
      "        <br><hr><br>\n",
      "\n",
      "\n",
      "        <div id='bigred'>\n",
      "            Hello world\n",
      "        </div>\n",
      "\n",
      "        <br><hr><br>\n",
      "\n",
      "\n",
      "        <div id=\"smallblue\">\n",
      "            Hello python\n",
      "            <p>Iam a paragrapph</p>\n",
      "        </div>\n",
      "\n",
      "\n",
      "        \n",
      "\n",
      "    </body>\n",
      "\n",
      "\n",
      "</html>\n",
      "\n",
      "\n"
     ]
    }
   ],
   "source": [
    "print(reponse.text)"
   ]
  },
  {
   "cell_type": "code",
   "execution_count": 4,
   "metadata": {},
   "outputs": [],
   "source": [
    "from bs4 import BeautifulSoup"
   ]
  },
  {
   "cell_type": "code",
   "execution_count": 6,
   "metadata": {},
   "outputs": [
    {
     "name": "stdout",
     "output_type": "stream",
     "text": [
      "<!DOCTYPE html>\n",
      "\n",
      "<html>\n",
      "<head>\n",
      "<title>My First HTML Page</title>\n",
      "<style>\n",
      "\n",
      "            p {\n",
      "                color: green;\n",
      "                \n",
      "            }\n",
      "\n",
      "            h1 {\n",
      "                color:blue;\n",
      "                text-shadow: 2px 2px 5px red;\n",
      "            }\n",
      "\n",
      "\n",
      "            img {\n",
      "                width: 200px;\n",
      "                height: 200px;\n",
      "            }\n",
      "\n",
      "\n",
      "            select {\n",
      "                width: 300px;\n",
      "                height: 50px;\n",
      "                background-color: orange;\n",
      "            }\n",
      "\n",
      "            div#bigred {\n",
      "                width: 100%%;\n",
      "                height: 200px;\n",
      "                background-color: red;\n",
      "                margin: 20px;\n",
      "                color: white;\n",
      "            }\n",
      "\n",
      "\n",
      "            div#smallblue {\n",
      "                width: 100%%;\n",
      "                height: 100px;\n",
      "                background-color: blue;\n",
      "                margin: 20px;\n",
      "                color: yellow;\n",
      "            }\n",
      "\n",
      "            li.redul {\n",
      "                color: red;\n",
      "            }\n",
      "\n",
      "            li.blueol {\n",
      "                color:blue;\n",
      "            }\n",
      "\n",
      "            .h2_orange {\n",
      "                color: orange;\n",
      "            }\n",
      "\n",
      "            .jupyter_img {\n",
      "                width: 200px;\n",
      "                height: 200px;\n",
      "                border: solid green 3px;\n",
      "            }\n",
      "\n",
      "            .bg-yellow {\n",
      "                background-color: yellow;\n",
      "            }\n",
      "\n",
      "        </style>\n",
      "</head>\n",
      "<body>\n",
      "<p>Iam a paragrapph</p>\n",
      "<br/><hr/><br/>\n",
      "<h1>My First H1 Header</h1>\n",
      "<h1>My Second H1 Header</h1>\n",
      "<h2 class=\"h2_orange bg-yellow\">My First H2 Header</h2>\n",
      "<h2 class=\"h2_orange\">My Second H2 Header</h2>\n",
      "<h2>My 3rd H2 Header</h2>\n",
      "<br/><hr/><br/>\n",
      "<ul>\n",
      "<li class=\"redul\"> Milk </li>\n",
      "<li class=\"redul\"> Oranges </li>\n",
      "</ul>\n",
      "<br/><hr/><br/>\n",
      "<ol>\n",
      "<li class=\"blueol\"> Milk </li>\n",
      "<li class=\"blueol\"> Oranges </li>\n",
      "</ol>\n",
      "<br/><hr/><br/>\n",
      "<img class=\"jupyter_img\" src=\"my_img.png\"/>\n",
      "<br/><hr/><br/>\n",
      "<a href=\"http://www.google.com\">Go To Google</a>\n",
      "<br/><hr/><br/>\n",
      "<form>\n",
      "            Username: <input class=\"bg-yellow\" type=\"text\"/>\n",
      "<br/><br/>\n",
      "            Passowrd: <input type=\"password\"/>\n",
      "<br/><br/>\n",
      "<select>\n",
      "<option value=\"volvo\">Volvo</option>\n",
      "<option value=\"saab\">Saab</option>\n",
      "<option value=\"fiat\">Fiat</option>\n",
      "<option value=\"audi\">Audi</option>\n",
      "</select>\n",
      "<br/><br/>\n",
      "<input type=\"checkbox\"/>\n",
      "            I agree for the terms\n",
      "            <br/><br/>\n",
      "<input type=\"submit\" value=\"Search\"/>\n",
      "</form>\n",
      "<br/><hr/><br/>\n",
      "<table>\n",
      "<tr>\n",
      "<th>House Size</th>\n",
      "<th>Num of Rooms</th>\n",
      "<th class=\"bg-yellow\">Has Garden</th>\n",
      "<th>Price</th>\n",
      "</tr>\n",
      "<tr>\n",
      "<td>120</td>\n",
      "<td>3</td>\n",
      "<td>yes</td>\n",
      "<td>500000</td>\n",
      "</tr>\n",
      "<tr>\n",
      "<td>140</td>\n",
      "<td>4</td>\n",
      "<td class=\"bg-yellow\">no</td>\n",
      "<td>750000</td>\n",
      "</tr>\n",
      "<tr>\n",
      "<td>80</td>\n",
      "<td>1</td>\n",
      "<td>no</td>\n",
      "<td>300000</td>\n",
      "</tr>\n",
      "</table>\n",
      "<br/><hr/><br/>\n",
      "<iframe height=\"345\" src=\"https://www.youtube.com/embed/tgbNymZ7vqY\" width=\"420\"></iframe>\n",
      "<br/><hr/><br/>\n",
      "<div id=\"bigred\">\n",
      "            Hello world\n",
      "        </div>\n",
      "<br/><hr/><br/>\n",
      "<div id=\"smallblue\">\n",
      "            Hello python\n",
      "            <p>Iam a paragrapph</p>\n",
      "</div>\n",
      "</body>\n",
      "</html>\n",
      "\n"
     ]
    }
   ],
   "source": [
    "soup=BeautifulSoup(reponse.text,\"html.parser\")\n",
    "print(soup)"
   ]
  },
  {
   "cell_type": "code",
   "execution_count": 7,
   "metadata": {},
   "outputs": [
    {
     "data": {
      "text/plain": [
       "'Iam a paragrapph'"
      ]
     },
     "execution_count": 7,
     "metadata": {},
     "output_type": "execute_result"
    }
   ],
   "source": [
    "p=soup.find(\"p\")\n",
    "p.text"
   ]
  },
  {
   "cell_type": "code",
   "execution_count": 8,
   "metadata": {},
   "outputs": [
    {
     "data": {
      "text/plain": [
       "[<p>Iam a paragrapph</p>, <p>Iam a paragrapph</p>]"
      ]
     },
     "execution_count": 8,
     "metadata": {},
     "output_type": "execute_result"
    }
   ],
   "source": [
    "all_p=soup.find_all('p')\n",
    "all_p"
   ]
  },
  {
   "cell_type": "code",
   "execution_count": 9,
   "metadata": {},
   "outputs": [
    {
     "data": {
      "text/plain": [
       "'Iam a paragrapph'"
      ]
     },
     "execution_count": 9,
     "metadata": {},
     "output_type": "execute_result"
    }
   ],
   "source": [
    "all_p[0].text"
   ]
  },
  {
   "cell_type": "code",
   "execution_count": 10,
   "metadata": {},
   "outputs": [
    {
     "name": "stdout",
     "output_type": "stream",
     "text": [
      "Iam a paragrapph\n",
      "Iam a paragrapph\n"
     ]
    }
   ],
   "source": [
    "for para in all_p:\n",
    "    print(para.text)"
   ]
  },
  {
   "cell_type": "code",
   "execution_count": 11,
   "metadata": {},
   "outputs": [
    {
     "name": "stdout",
     "output_type": "stream",
     "text": [
      "My First H1 Header\n",
      "My Second H1 Header\n"
     ]
    }
   ],
   "source": [
    "h1=soup.find_all('h1')\n",
    "for head in h1:\n",
    "    print(head.text)"
   ]
  },
  {
   "cell_type": "code",
   "execution_count": 12,
   "metadata": {},
   "outputs": [
    {
     "data": {
      "text/plain": [
       "[<img class=\"jupyter_img\" src=\"my_img.png\"/>]"
      ]
     },
     "execution_count": 12,
     "metadata": {},
     "output_type": "execute_result"
    }
   ],
   "source": [
    "imgs=soup.find_all('img')\n",
    "imgs"
   ]
  },
  {
   "cell_type": "code",
   "execution_count": 13,
   "metadata": {},
   "outputs": [
    {
     "data": {
      "text/plain": [
       "[<li class=\"redul\"> Milk </li>,\n",
       " <li class=\"redul\"> Oranges </li>,\n",
       " <li class=\"blueol\"> Milk </li>,\n",
       " <li class=\"blueol\"> Oranges </li>]"
      ]
     },
     "execution_count": 13,
     "metadata": {},
     "output_type": "execute_result"
    }
   ],
   "source": [
    "pp=soup.find_all('li')\n",
    "pp"
   ]
  },
  {
   "cell_type": "code",
   "execution_count": 14,
   "metadata": {},
   "outputs": [
    {
     "ename": "NameError",
     "evalue": "name 'row' is not defined",
     "output_type": "error",
     "traceback": [
      "\u001b[1;31m---------------------------------------------------------------------------\u001b[0m",
      "\u001b[1;31mNameError\u001b[0m                                 Traceback (most recent call last)",
      "\u001b[1;32mc:\\Users\\vip\\Downloads\\ghg\\web2.ipynb Cell 12\u001b[0m in \u001b[0;36m<cell line: 1>\u001b[1;34m()\u001b[0m\n\u001b[0;32m      <a href='vscode-notebook-cell:/c%3A/Users/vip/Downloads/ghg/web2.ipynb#X14sZmlsZQ%3D%3D?line=0'>1</a>\u001b[0m \u001b[39mwith\u001b[39;00m \u001b[39mopen\u001b[39m(\u001b[39m'\u001b[39m\u001b[39mtablee.csv\u001b[39m\u001b[39m'\u001b[39m,\u001b[39m'\u001b[39m\u001b[39mw\u001b[39m\u001b[39m'\u001b[39m)\u001b[39mas\u001b[39;00m f:\n\u001b[1;32m----> <a href='vscode-notebook-cell:/c%3A/Users/vip/Downloads/ghg/web2.ipynb#X14sZmlsZQ%3D%3D?line=1'>2</a>\u001b[0m     header\u001b[39m=\u001b[39mrow[\u001b[39m0\u001b[39m]\u001b[39m.\u001b[39mfind_all(\u001b[39m'\u001b[39m\u001b[39mth\u001b[39m\u001b[39m'\u001b[39m)\n\u001b[0;32m      <a href='vscode-notebook-cell:/c%3A/Users/vip/Downloads/ghg/web2.ipynb#X14sZmlsZQ%3D%3D?line=2'>3</a>\u001b[0m     header_text\u001b[39m=\u001b[39m[th\u001b[39m.\u001b[39mtext \u001b[39mfor\u001b[39;00m th \u001b[39min\u001b[39;00m header]\n\u001b[0;32m      <a href='vscode-notebook-cell:/c%3A/Users/vip/Downloads/ghg/web2.ipynb#X14sZmlsZQ%3D%3D?line=3'>4</a>\u001b[0m     f\u001b[39m.\u001b[39mwrite(\u001b[39mf\u001b[39m\u001b[39m\"\u001b[39m\u001b[39m{\u001b[39;00mheader_text[\u001b[39m0\u001b[39m]\u001b[39m}\u001b[39;00m\u001b[39m,\u001b[39m\u001b[39m{\u001b[39;00mheader_text[\u001b[39m1\u001b[39m]\u001b[39m}\u001b[39;00m\u001b[39m,\u001b[39m\u001b[39m{\u001b[39;00mheader_text[\u001b[39m2\u001b[39m]\u001b[39m}\u001b[39;00m\u001b[39m,\u001b[39m\u001b[39m{\u001b[39;00mheader_text[\u001b[39m3\u001b[39m]\u001b[39m}\u001b[39;00m\u001b[39m\\n\u001b[39;00m\u001b[39m\"\u001b[39m)\n",
      "\u001b[1;31mNameError\u001b[0m: name 'row' is not defined"
     ]
    }
   ],
   "source": []
  },
  {
   "cell_type": "code",
   "execution_count": 16,
   "metadata": {},
   "outputs": [
    {
     "data": {
      "text/plain": [
       "[<table>\n",
       " <tr>\n",
       " <th>House Size</th>\n",
       " <th>Num of Rooms</th>\n",
       " <th class=\"bg-yellow\">Has Garden</th>\n",
       " <th>Price</th>\n",
       " </tr>\n",
       " <tr>\n",
       " <td>120</td>\n",
       " <td>3</td>\n",
       " <td>yes</td>\n",
       " <td>500000</td>\n",
       " </tr>\n",
       " <tr>\n",
       " <td>140</td>\n",
       " <td>4</td>\n",
       " <td class=\"bg-yellow\">no</td>\n",
       " <td>750000</td>\n",
       " </tr>\n",
       " <tr>\n",
       " <td>80</td>\n",
       " <td>1</td>\n",
       " <td>no</td>\n",
       " <td>300000</td>\n",
       " </tr>\n",
       " </table>]"
      ]
     },
     "execution_count": 16,
     "metadata": {},
     "output_type": "execute_result"
    }
   ],
   "source": [
    "source=soup.find_all('table')\n",
    "source"
   ]
  },
  {
   "cell_type": "code",
   "execution_count": 26,
   "metadata": {},
   "outputs": [
    {
     "data": {
      "text/plain": [
       "[<tr>\n",
       " <th>House Size</th>\n",
       " <th>Num of Rooms</th>\n",
       " <th class=\"bg-yellow\">Has Garden</th>\n",
       " <th>Price</th>\n",
       " </tr>,\n",
       " <tr>\n",
       " <td>120</td>\n",
       " <td>3</td>\n",
       " <td>yes</td>\n",
       " <td>500000</td>\n",
       " </tr>,\n",
       " <tr>\n",
       " <td>140</td>\n",
       " <td>4</td>\n",
       " <td class=\"bg-yellow\">no</td>\n",
       " <td>750000</td>\n",
       " </tr>,\n",
       " <tr>\n",
       " <td>80</td>\n",
       " <td>1</td>\n",
       " <td>no</td>\n",
       " <td>300000</td>\n",
       " </tr>]"
      ]
     },
     "execution_count": 26,
     "metadata": {},
     "output_type": "execute_result"
    }
   ],
   "source": [
    "rows=source[0].find_all('tr')\n",
    "rows"
   ]
  },
  {
   "cell_type": "code",
   "execution_count": 42,
   "metadata": {},
   "outputs": [],
   "source": [
    "with open('tablee.csv','w')as f:\n",
    "    header=rows[0].find_all('th')\n",
    "    header_text=[th.text for th in header]\n",
    "    f.write(f\"{header_text[0]},{header_text[1]},{header_text[2]},{header_text[3]}\\n\")\n",
    "    data=rows[1:]\n",
    "    for row in data:\n",
    "        td=row.find_all('td')\n",
    "        td_text=[d.get_text() for d in td]\n",
    "        f.write(f\"{td_text[0]},{td_text[1]},{td_text[2]},{td_text[3]}\\n\")"
   ]
  },
  {
   "cell_type": "code",
   "execution_count": 34,
   "metadata": {},
   "outputs": [],
   "source": [
    "\n"
   ]
  },
  {
   "cell_type": "code",
   "execution_count": 39,
   "metadata": {},
   "outputs": [
    {
     "ename": "ValueError",
     "evalue": "I/O operation on closed file.",
     "output_type": "error",
     "traceback": [
      "\u001b[1;31m---------------------------------------------------------------------------\u001b[0m",
      "\u001b[1;31mValueError\u001b[0m                                Traceback (most recent call last)",
      "\u001b[1;32mc:\\Users\\vip\\Downloads\\ghg\\web2.ipynb Cell 17\u001b[0m in \u001b[0;36m<cell line: 1>\u001b[1;34m()\u001b[0m\n\u001b[0;32m      <a href='vscode-notebook-cell:/c%3A/Users/vip/Downloads/ghg/web2.ipynb#X22sZmlsZQ%3D%3D?line=1'>2</a>\u001b[0m td\u001b[39m=\u001b[39mrow\u001b[39m.\u001b[39mfind_all(\u001b[39m'\u001b[39m\u001b[39mtd\u001b[39m\u001b[39m'\u001b[39m)\n\u001b[0;32m      <a href='vscode-notebook-cell:/c%3A/Users/vip/Downloads/ghg/web2.ipynb#X22sZmlsZQ%3D%3D?line=2'>3</a>\u001b[0m td_text\u001b[39m=\u001b[39m[d\u001b[39m.\u001b[39mget_text() \u001b[39mfor\u001b[39;00m d \u001b[39min\u001b[39;00m td]\n\u001b[1;32m----> <a href='vscode-notebook-cell:/c%3A/Users/vip/Downloads/ghg/web2.ipynb#X22sZmlsZQ%3D%3D?line=3'>4</a>\u001b[0m f\u001b[39m.\u001b[39;49mwrite(\u001b[39mf\u001b[39;49m\u001b[39m\"\u001b[39;49m\u001b[39m{\u001b[39;49;00mtd_text[\u001b[39m0\u001b[39;49m]\u001b[39m}\u001b[39;49;00m\u001b[39m,\u001b[39;49m\u001b[39m{\u001b[39;49;00mtd_text[\u001b[39m1\u001b[39;49m]\u001b[39m}\u001b[39;49;00m\u001b[39m,\u001b[39;49m\u001b[39m{\u001b[39;49;00mtd_text[\u001b[39m2\u001b[39;49m]\u001b[39m}\u001b[39;49;00m\u001b[39m,\u001b[39;49m\u001b[39m{\u001b[39;49;00mtd_text[\u001b[39m3\u001b[39;49m]\u001b[39m}\u001b[39;49;00m\u001b[39m\\n\u001b[39;49;00m\u001b[39m\"\u001b[39;49m)\n",
      "\u001b[1;31mValueError\u001b[0m: I/O operation on closed file."
     ]
    }
   ],
   "source": [
    "\n",
    "    "
   ]
  },
  {
   "cell_type": "code",
   "execution_count": 36,
   "metadata": {},
   "outputs": [],
   "source": [
    "\n",
    "\n",
    "    "
   ]
  },
  {
   "cell_type": "code",
   "execution_count": 37,
   "metadata": {},
   "outputs": [
    {
     "ename": "ValueError",
     "evalue": "I/O operation on closed file.",
     "output_type": "error",
     "traceback": [
      "\u001b[1;31m---------------------------------------------------------------------------\u001b[0m",
      "\u001b[1;31mValueError\u001b[0m                                Traceback (most recent call last)",
      "\u001b[1;32mc:\\Users\\vip\\Downloads\\ghg\\web2.ipynb Cell 19\u001b[0m in \u001b[0;36m<cell line: 1>\u001b[1;34m()\u001b[0m\n\u001b[1;32m----> <a href='vscode-notebook-cell:/c%3A/Users/vip/Downloads/ghg/web2.ipynb#X24sZmlsZQ%3D%3D?line=0'>1</a>\u001b[0m f\u001b[39m.\u001b[39;49mwrite(\u001b[39mf\u001b[39;49m\u001b[39m\"\u001b[39;49m\u001b[39m{\u001b[39;49;00mtd_text[\u001b[39m0\u001b[39;49m]\u001b[39m}\u001b[39;49;00m\u001b[39m,\u001b[39;49m\u001b[39m{\u001b[39;49;00mtd_text[\u001b[39m1\u001b[39;49m]\u001b[39m}\u001b[39;49;00m\u001b[39m,\u001b[39;49m\u001b[39m{\u001b[39;49;00mtd_text[\u001b[39m2\u001b[39;49m]\u001b[39m}\u001b[39;49;00m\u001b[39m,\u001b[39;49m\u001b[39m{\u001b[39;49;00mtd_text[\u001b[39m3\u001b[39;49m]\u001b[39m}\u001b[39;49;00m\u001b[39m\\n\u001b[39;49;00m\u001b[39m\"\u001b[39;49m)\n",
      "\u001b[1;31mValueError\u001b[0m: I/O operation on closed file."
     ]
    }
   ],
   "source": []
  },
  {
   "cell_type": "code",
   "execution_count": 44,
   "metadata": {},
   "outputs": [
    {
     "ename": "ConnectionError",
     "evalue": "HTTPSConnectionPool(host='deeplearning.mit.edu', port=443): Max retries exceeded with url: /?fbclid=IwAR0FHi5QjV_bIbeNmpj0oWcVFgMVZ0ckpW6y5Tyx7yyqWJ4ck6Z8WAB3g3g (Caused by NewConnectionError('<urllib3.connection.HTTPSConnection object at 0x000001C74F180310>: Failed to establish a new connection: [WinError 10060] A connection attempt failed because the connected party did not properly respond after a period of time, or established connection failed because connected host has failed to respond'))",
     "output_type": "error",
     "traceback": [
      "\u001b[1;31m---------------------------------------------------------------------------\u001b[0m",
      "\u001b[1;31mTimeoutError\u001b[0m                              Traceback (most recent call last)",
      "File \u001b[1;32mc:\\Users\\vip\\anaconda3\\lib\\site-packages\\urllib3\\connection.py:174\u001b[0m, in \u001b[0;36mHTTPConnection._new_conn\u001b[1;34m(self)\u001b[0m\n\u001b[0;32m    173\u001b[0m \u001b[39mtry\u001b[39;00m:\n\u001b[1;32m--> 174\u001b[0m     conn \u001b[39m=\u001b[39m connection\u001b[39m.\u001b[39mcreate_connection(\n\u001b[0;32m    175\u001b[0m         (\u001b[39mself\u001b[39m\u001b[39m.\u001b[39m_dns_host, \u001b[39mself\u001b[39m\u001b[39m.\u001b[39mport), \u001b[39mself\u001b[39m\u001b[39m.\u001b[39mtimeout, \u001b[39m*\u001b[39m\u001b[39m*\u001b[39mextra_kw\n\u001b[0;32m    176\u001b[0m     )\n\u001b[0;32m    178\u001b[0m \u001b[39mexcept\u001b[39;00m SocketTimeout:\n",
      "File \u001b[1;32mc:\\Users\\vip\\anaconda3\\lib\\site-packages\\urllib3\\util\\connection.py:95\u001b[0m, in \u001b[0;36mcreate_connection\u001b[1;34m(address, timeout, source_address, socket_options)\u001b[0m\n\u001b[0;32m     94\u001b[0m \u001b[39mif\u001b[39;00m err \u001b[39mis\u001b[39;00m \u001b[39mnot\u001b[39;00m \u001b[39mNone\u001b[39;00m:\n\u001b[1;32m---> 95\u001b[0m     \u001b[39mraise\u001b[39;00m err\n\u001b[0;32m     97\u001b[0m \u001b[39mraise\u001b[39;00m socket\u001b[39m.\u001b[39merror(\u001b[39m\"\u001b[39m\u001b[39mgetaddrinfo returns an empty list\u001b[39m\u001b[39m\"\u001b[39m)\n",
      "File \u001b[1;32mc:\\Users\\vip\\anaconda3\\lib\\site-packages\\urllib3\\util\\connection.py:85\u001b[0m, in \u001b[0;36mcreate_connection\u001b[1;34m(address, timeout, source_address, socket_options)\u001b[0m\n\u001b[0;32m     84\u001b[0m     sock\u001b[39m.\u001b[39mbind(source_address)\n\u001b[1;32m---> 85\u001b[0m sock\u001b[39m.\u001b[39;49mconnect(sa)\n\u001b[0;32m     86\u001b[0m \u001b[39mreturn\u001b[39;00m sock\n",
      "\u001b[1;31mTimeoutError\u001b[0m: [WinError 10060] A connection attempt failed because the connected party did not properly respond after a period of time, or established connection failed because connected host has failed to respond",
      "\nDuring handling of the above exception, another exception occurred:\n",
      "\u001b[1;31mNewConnectionError\u001b[0m                        Traceback (most recent call last)",
      "File \u001b[1;32mc:\\Users\\vip\\anaconda3\\lib\\site-packages\\urllib3\\connectionpool.py:703\u001b[0m, in \u001b[0;36mHTTPConnectionPool.urlopen\u001b[1;34m(self, method, url, body, headers, retries, redirect, assert_same_host, timeout, pool_timeout, release_conn, chunked, body_pos, **response_kw)\u001b[0m\n\u001b[0;32m    702\u001b[0m \u001b[39m# Make the request on the httplib connection object.\u001b[39;00m\n\u001b[1;32m--> 703\u001b[0m httplib_response \u001b[39m=\u001b[39m \u001b[39mself\u001b[39;49m\u001b[39m.\u001b[39;49m_make_request(\n\u001b[0;32m    704\u001b[0m     conn,\n\u001b[0;32m    705\u001b[0m     method,\n\u001b[0;32m    706\u001b[0m     url,\n\u001b[0;32m    707\u001b[0m     timeout\u001b[39m=\u001b[39;49mtimeout_obj,\n\u001b[0;32m    708\u001b[0m     body\u001b[39m=\u001b[39;49mbody,\n\u001b[0;32m    709\u001b[0m     headers\u001b[39m=\u001b[39;49mheaders,\n\u001b[0;32m    710\u001b[0m     chunked\u001b[39m=\u001b[39;49mchunked,\n\u001b[0;32m    711\u001b[0m )\n\u001b[0;32m    713\u001b[0m \u001b[39m# If we're going to release the connection in ``finally:``, then\u001b[39;00m\n\u001b[0;32m    714\u001b[0m \u001b[39m# the response doesn't need to know about the connection. Otherwise\u001b[39;00m\n\u001b[0;32m    715\u001b[0m \u001b[39m# it will also try to release it and we'll have a double-release\u001b[39;00m\n\u001b[0;32m    716\u001b[0m \u001b[39m# mess.\u001b[39;00m\n",
      "File \u001b[1;32mc:\\Users\\vip\\anaconda3\\lib\\site-packages\\urllib3\\connectionpool.py:386\u001b[0m, in \u001b[0;36mHTTPConnectionPool._make_request\u001b[1;34m(self, conn, method, url, timeout, chunked, **httplib_request_kw)\u001b[0m\n\u001b[0;32m    385\u001b[0m \u001b[39mtry\u001b[39;00m:\n\u001b[1;32m--> 386\u001b[0m     \u001b[39mself\u001b[39;49m\u001b[39m.\u001b[39;49m_validate_conn(conn)\n\u001b[0;32m    387\u001b[0m \u001b[39mexcept\u001b[39;00m (SocketTimeout, BaseSSLError) \u001b[39mas\u001b[39;00m e:\n\u001b[0;32m    388\u001b[0m     \u001b[39m# Py2 raises this as a BaseSSLError, Py3 raises it as socket timeout.\u001b[39;00m\n",
      "File \u001b[1;32mc:\\Users\\vip\\anaconda3\\lib\\site-packages\\urllib3\\connectionpool.py:1040\u001b[0m, in \u001b[0;36mHTTPSConnectionPool._validate_conn\u001b[1;34m(self, conn)\u001b[0m\n\u001b[0;32m   1039\u001b[0m \u001b[39mif\u001b[39;00m \u001b[39mnot\u001b[39;00m \u001b[39mgetattr\u001b[39m(conn, \u001b[39m\"\u001b[39m\u001b[39msock\u001b[39m\u001b[39m\"\u001b[39m, \u001b[39mNone\u001b[39;00m):  \u001b[39m# AppEngine might not have  `.sock`\u001b[39;00m\n\u001b[1;32m-> 1040\u001b[0m     conn\u001b[39m.\u001b[39;49mconnect()\n\u001b[0;32m   1042\u001b[0m \u001b[39mif\u001b[39;00m \u001b[39mnot\u001b[39;00m conn\u001b[39m.\u001b[39mis_verified:\n",
      "File \u001b[1;32mc:\\Users\\vip\\anaconda3\\lib\\site-packages\\urllib3\\connection.py:358\u001b[0m, in \u001b[0;36mHTTPSConnection.connect\u001b[1;34m(self)\u001b[0m\n\u001b[0;32m    356\u001b[0m \u001b[39mdef\u001b[39;00m \u001b[39mconnect\u001b[39m(\u001b[39mself\u001b[39m):\n\u001b[0;32m    357\u001b[0m     \u001b[39m# Add certificate verification\u001b[39;00m\n\u001b[1;32m--> 358\u001b[0m     \u001b[39mself\u001b[39m\u001b[39m.\u001b[39msock \u001b[39m=\u001b[39m conn \u001b[39m=\u001b[39m \u001b[39mself\u001b[39;49m\u001b[39m.\u001b[39;49m_new_conn()\n\u001b[0;32m    359\u001b[0m     hostname \u001b[39m=\u001b[39m \u001b[39mself\u001b[39m\u001b[39m.\u001b[39mhost\n",
      "File \u001b[1;32mc:\\Users\\vip\\anaconda3\\lib\\site-packages\\urllib3\\connection.py:186\u001b[0m, in \u001b[0;36mHTTPConnection._new_conn\u001b[1;34m(self)\u001b[0m\n\u001b[0;32m    185\u001b[0m \u001b[39mexcept\u001b[39;00m SocketError \u001b[39mas\u001b[39;00m e:\n\u001b[1;32m--> 186\u001b[0m     \u001b[39mraise\u001b[39;00m NewConnectionError(\n\u001b[0;32m    187\u001b[0m         \u001b[39mself\u001b[39m, \u001b[39m\"\u001b[39m\u001b[39mFailed to establish a new connection: \u001b[39m\u001b[39m%s\u001b[39;00m\u001b[39m\"\u001b[39m \u001b[39m%\u001b[39m e\n\u001b[0;32m    188\u001b[0m     )\n\u001b[0;32m    190\u001b[0m \u001b[39mreturn\u001b[39;00m conn\n",
      "\u001b[1;31mNewConnectionError\u001b[0m: <urllib3.connection.HTTPSConnection object at 0x000001C74F180310>: Failed to establish a new connection: [WinError 10060] A connection attempt failed because the connected party did not properly respond after a period of time, or established connection failed because connected host has failed to respond",
      "\nDuring handling of the above exception, another exception occurred:\n",
      "\u001b[1;31mMaxRetryError\u001b[0m                             Traceback (most recent call last)",
      "File \u001b[1;32mc:\\Users\\vip\\anaconda3\\lib\\site-packages\\requests\\adapters.py:440\u001b[0m, in \u001b[0;36mHTTPAdapter.send\u001b[1;34m(self, request, stream, timeout, verify, cert, proxies)\u001b[0m\n\u001b[0;32m    439\u001b[0m \u001b[39mif\u001b[39;00m \u001b[39mnot\u001b[39;00m chunked:\n\u001b[1;32m--> 440\u001b[0m     resp \u001b[39m=\u001b[39m conn\u001b[39m.\u001b[39;49murlopen(\n\u001b[0;32m    441\u001b[0m         method\u001b[39m=\u001b[39;49mrequest\u001b[39m.\u001b[39;49mmethod,\n\u001b[0;32m    442\u001b[0m         url\u001b[39m=\u001b[39;49murl,\n\u001b[0;32m    443\u001b[0m         body\u001b[39m=\u001b[39;49mrequest\u001b[39m.\u001b[39;49mbody,\n\u001b[0;32m    444\u001b[0m         headers\u001b[39m=\u001b[39;49mrequest\u001b[39m.\u001b[39;49mheaders,\n\u001b[0;32m    445\u001b[0m         redirect\u001b[39m=\u001b[39;49m\u001b[39mFalse\u001b[39;49;00m,\n\u001b[0;32m    446\u001b[0m         assert_same_host\u001b[39m=\u001b[39;49m\u001b[39mFalse\u001b[39;49;00m,\n\u001b[0;32m    447\u001b[0m         preload_content\u001b[39m=\u001b[39;49m\u001b[39mFalse\u001b[39;49;00m,\n\u001b[0;32m    448\u001b[0m         decode_content\u001b[39m=\u001b[39;49m\u001b[39mFalse\u001b[39;49;00m,\n\u001b[0;32m    449\u001b[0m         retries\u001b[39m=\u001b[39;49m\u001b[39mself\u001b[39;49m\u001b[39m.\u001b[39;49mmax_retries,\n\u001b[0;32m    450\u001b[0m         timeout\u001b[39m=\u001b[39;49mtimeout\n\u001b[0;32m    451\u001b[0m     )\n\u001b[0;32m    453\u001b[0m \u001b[39m# Send the request.\u001b[39;00m\n\u001b[0;32m    454\u001b[0m \u001b[39melse\u001b[39;00m:\n",
      "File \u001b[1;32mc:\\Users\\vip\\anaconda3\\lib\\site-packages\\urllib3\\connectionpool.py:785\u001b[0m, in \u001b[0;36mHTTPConnectionPool.urlopen\u001b[1;34m(self, method, url, body, headers, retries, redirect, assert_same_host, timeout, pool_timeout, release_conn, chunked, body_pos, **response_kw)\u001b[0m\n\u001b[0;32m    783\u001b[0m     e \u001b[39m=\u001b[39m ProtocolError(\u001b[39m\"\u001b[39m\u001b[39mConnection aborted.\u001b[39m\u001b[39m\"\u001b[39m, e)\n\u001b[1;32m--> 785\u001b[0m retries \u001b[39m=\u001b[39m retries\u001b[39m.\u001b[39;49mincrement(\n\u001b[0;32m    786\u001b[0m     method, url, error\u001b[39m=\u001b[39;49me, _pool\u001b[39m=\u001b[39;49m\u001b[39mself\u001b[39;49m, _stacktrace\u001b[39m=\u001b[39;49msys\u001b[39m.\u001b[39;49mexc_info()[\u001b[39m2\u001b[39;49m]\n\u001b[0;32m    787\u001b[0m )\n\u001b[0;32m    788\u001b[0m retries\u001b[39m.\u001b[39msleep()\n",
      "File \u001b[1;32mc:\\Users\\vip\\anaconda3\\lib\\site-packages\\urllib3\\util\\retry.py:592\u001b[0m, in \u001b[0;36mRetry.increment\u001b[1;34m(self, method, url, response, error, _pool, _stacktrace)\u001b[0m\n\u001b[0;32m    591\u001b[0m \u001b[39mif\u001b[39;00m new_retry\u001b[39m.\u001b[39mis_exhausted():\n\u001b[1;32m--> 592\u001b[0m     \u001b[39mraise\u001b[39;00m MaxRetryError(_pool, url, error \u001b[39mor\u001b[39;00m ResponseError(cause))\n\u001b[0;32m    594\u001b[0m log\u001b[39m.\u001b[39mdebug(\u001b[39m\"\u001b[39m\u001b[39mIncremented Retry for (url=\u001b[39m\u001b[39m'\u001b[39m\u001b[39m%s\u001b[39;00m\u001b[39m'\u001b[39m\u001b[39m): \u001b[39m\u001b[39m%r\u001b[39;00m\u001b[39m\"\u001b[39m, url, new_retry)\n",
      "\u001b[1;31mMaxRetryError\u001b[0m: HTTPSConnectionPool(host='deeplearning.mit.edu', port=443): Max retries exceeded with url: /?fbclid=IwAR0FHi5QjV_bIbeNmpj0oWcVFgMVZ0ckpW6y5Tyx7yyqWJ4ck6Z8WAB3g3g (Caused by NewConnectionError('<urllib3.connection.HTTPSConnection object at 0x000001C74F180310>: Failed to establish a new connection: [WinError 10060] A connection attempt failed because the connected party did not properly respond after a period of time, or established connection failed because connected host has failed to respond'))",
      "\nDuring handling of the above exception, another exception occurred:\n",
      "\u001b[1;31mConnectionError\u001b[0m                           Traceback (most recent call last)",
      "\u001b[1;32mc:\\Users\\vip\\Downloads\\ghg\\web2.ipynb Cell 20\u001b[0m in \u001b[0;36m<cell line: 2>\u001b[1;34m()\u001b[0m\n\u001b[0;32m      <a href='vscode-notebook-cell:/c%3A/Users/vip/Downloads/ghg/web2.ipynb#X25sZmlsZQ%3D%3D?line=0'>1</a>\u001b[0m \u001b[39mimport\u001b[39;00m \u001b[39mrequests\u001b[39;00m\n\u001b[1;32m----> <a href='vscode-notebook-cell:/c%3A/Users/vip/Downloads/ghg/web2.ipynb#X25sZmlsZQ%3D%3D?line=1'>2</a>\u001b[0m response \u001b[39m=\u001b[39m requests\u001b[39m.\u001b[39;49mget(\u001b[39m\"\u001b[39;49m\u001b[39mhttps://deeplearning.mit.edu/?fbclid=IwAR0FHi5QjV_bIbeNmpj0oWcVFgMVZ0ckpW6y5Tyx7yyqWJ4ck6Z8WAB3g3g\u001b[39;49m\u001b[39m\"\u001b[39;49m)\n\u001b[0;32m      <a href='vscode-notebook-cell:/c%3A/Users/vip/Downloads/ghg/web2.ipynb#X25sZmlsZQ%3D%3D?line=2'>3</a>\u001b[0m response\n",
      "File \u001b[1;32mc:\\Users\\vip\\anaconda3\\lib\\site-packages\\requests\\api.py:75\u001b[0m, in \u001b[0;36mget\u001b[1;34m(url, params, **kwargs)\u001b[0m\n\u001b[0;32m     64\u001b[0m \u001b[39mdef\u001b[39;00m \u001b[39mget\u001b[39m(url, params\u001b[39m=\u001b[39m\u001b[39mNone\u001b[39;00m, \u001b[39m*\u001b[39m\u001b[39m*\u001b[39mkwargs):\n\u001b[0;32m     65\u001b[0m     \u001b[39mr\u001b[39m\u001b[39m\"\"\"Sends a GET request.\u001b[39;00m\n\u001b[0;32m     66\u001b[0m \n\u001b[0;32m     67\u001b[0m \u001b[39m    :param url: URL for the new :class:`Request` object.\u001b[39;00m\n\u001b[1;32m   (...)\u001b[0m\n\u001b[0;32m     72\u001b[0m \u001b[39m    :rtype: requests.Response\u001b[39;00m\n\u001b[0;32m     73\u001b[0m \u001b[39m    \"\"\"\u001b[39;00m\n\u001b[1;32m---> 75\u001b[0m     \u001b[39mreturn\u001b[39;00m request(\u001b[39m'\u001b[39m\u001b[39mget\u001b[39m\u001b[39m'\u001b[39m, url, params\u001b[39m=\u001b[39mparams, \u001b[39m*\u001b[39m\u001b[39m*\u001b[39mkwargs)\n",
      "File \u001b[1;32mc:\\Users\\vip\\anaconda3\\lib\\site-packages\\requests\\api.py:61\u001b[0m, in \u001b[0;36mrequest\u001b[1;34m(method, url, **kwargs)\u001b[0m\n\u001b[0;32m     57\u001b[0m \u001b[39m# By using the 'with' statement we are sure the session is closed, thus we\u001b[39;00m\n\u001b[0;32m     58\u001b[0m \u001b[39m# avoid leaving sockets open which can trigger a ResourceWarning in some\u001b[39;00m\n\u001b[0;32m     59\u001b[0m \u001b[39m# cases, and look like a memory leak in others.\u001b[39;00m\n\u001b[0;32m     60\u001b[0m \u001b[39mwith\u001b[39;00m sessions\u001b[39m.\u001b[39mSession() \u001b[39mas\u001b[39;00m session:\n\u001b[1;32m---> 61\u001b[0m     \u001b[39mreturn\u001b[39;00m session\u001b[39m.\u001b[39mrequest(method\u001b[39m=\u001b[39mmethod, url\u001b[39m=\u001b[39murl, \u001b[39m*\u001b[39m\u001b[39m*\u001b[39mkwargs)\n",
      "File \u001b[1;32mc:\\Users\\vip\\anaconda3\\lib\\site-packages\\requests\\sessions.py:529\u001b[0m, in \u001b[0;36mSession.request\u001b[1;34m(self, method, url, params, data, headers, cookies, files, auth, timeout, allow_redirects, proxies, hooks, stream, verify, cert, json)\u001b[0m\n\u001b[0;32m    524\u001b[0m send_kwargs \u001b[39m=\u001b[39m {\n\u001b[0;32m    525\u001b[0m     \u001b[39m'\u001b[39m\u001b[39mtimeout\u001b[39m\u001b[39m'\u001b[39m: timeout,\n\u001b[0;32m    526\u001b[0m     \u001b[39m'\u001b[39m\u001b[39mallow_redirects\u001b[39m\u001b[39m'\u001b[39m: allow_redirects,\n\u001b[0;32m    527\u001b[0m }\n\u001b[0;32m    528\u001b[0m send_kwargs\u001b[39m.\u001b[39mupdate(settings)\n\u001b[1;32m--> 529\u001b[0m resp \u001b[39m=\u001b[39m \u001b[39mself\u001b[39m\u001b[39m.\u001b[39msend(prep, \u001b[39m*\u001b[39m\u001b[39m*\u001b[39msend_kwargs)\n\u001b[0;32m    531\u001b[0m \u001b[39mreturn\u001b[39;00m resp\n",
      "File \u001b[1;32mc:\\Users\\vip\\anaconda3\\lib\\site-packages\\requests\\sessions.py:645\u001b[0m, in \u001b[0;36mSession.send\u001b[1;34m(self, request, **kwargs)\u001b[0m\n\u001b[0;32m    642\u001b[0m start \u001b[39m=\u001b[39m preferred_clock()\n\u001b[0;32m    644\u001b[0m \u001b[39m# Send the request\u001b[39;00m\n\u001b[1;32m--> 645\u001b[0m r \u001b[39m=\u001b[39m adapter\u001b[39m.\u001b[39msend(request, \u001b[39m*\u001b[39m\u001b[39m*\u001b[39mkwargs)\n\u001b[0;32m    647\u001b[0m \u001b[39m# Total elapsed time of the request (approximately)\u001b[39;00m\n\u001b[0;32m    648\u001b[0m elapsed \u001b[39m=\u001b[39m preferred_clock() \u001b[39m-\u001b[39m start\n",
      "File \u001b[1;32mc:\\Users\\vip\\anaconda3\\lib\\site-packages\\requests\\adapters.py:519\u001b[0m, in \u001b[0;36mHTTPAdapter.send\u001b[1;34m(self, request, stream, timeout, verify, cert, proxies)\u001b[0m\n\u001b[0;32m    515\u001b[0m     \u001b[39mif\u001b[39;00m \u001b[39misinstance\u001b[39m(e\u001b[39m.\u001b[39mreason, _SSLError):\n\u001b[0;32m    516\u001b[0m         \u001b[39m# This branch is for urllib3 v1.22 and later.\u001b[39;00m\n\u001b[0;32m    517\u001b[0m         \u001b[39mraise\u001b[39;00m SSLError(e, request\u001b[39m=\u001b[39mrequest)\n\u001b[1;32m--> 519\u001b[0m     \u001b[39mraise\u001b[39;00m \u001b[39mConnectionError\u001b[39;00m(e, request\u001b[39m=\u001b[39mrequest)\n\u001b[0;32m    521\u001b[0m \u001b[39mexcept\u001b[39;00m ClosedPoolError \u001b[39mas\u001b[39;00m e:\n\u001b[0;32m    522\u001b[0m     \u001b[39mraise\u001b[39;00m \u001b[39mConnectionError\u001b[39;00m(e, request\u001b[39m=\u001b[39mrequest)\n",
      "\u001b[1;31mConnectionError\u001b[0m: HTTPSConnectionPool(host='deeplearning.mit.edu', port=443): Max retries exceeded with url: /?fbclid=IwAR0FHi5QjV_bIbeNmpj0oWcVFgMVZ0ckpW6y5Tyx7yyqWJ4ck6Z8WAB3g3g (Caused by NewConnectionError('<urllib3.connection.HTTPSConnection object at 0x000001C74F180310>: Failed to establish a new connection: [WinError 10060] A connection attempt failed because the connected party did not properly respond after a period of time, or established connection failed because connected host has failed to respond'))"
     ]
    }
   ],
   "source": [
    "import requests\n",
    "response = requests.get(\"https://deeplearning.mit.edu/?fbclid=IwAR0FHi5QjV_bIbeNmpj0oWcVFgMVZ0ckpW6y5Tyx7yyqWJ4ck6Z8WAB3g3g\")\n",
    "response"
   ]
  },
  {
   "cell_type": "code",
   "execution_count": null,
   "metadata": {},
   "outputs": [],
   "source": []
  }
 ],
 "metadata": {
  "kernelspec": {
   "display_name": "Python 3.9.12 ('base')",
   "language": "python",
   "name": "python3"
  },
  "language_info": {
   "codemirror_mode": {
    "name": "ipython",
    "version": 3
   },
   "file_extension": ".py",
   "mimetype": "text/x-python",
   "name": "python",
   "nbconvert_exporter": "python",
   "pygments_lexer": "ipython3",
   "version": "3.9.12"
  },
  "orig_nbformat": 4,
  "vscode": {
   "interpreter": {
    "hash": "b891381ddc687a90546da4e2d56168e3245b96ff0176b4dbf77e52798576058a"
   }
  }
 },
 "nbformat": 4,
 "nbformat_minor": 2
}
